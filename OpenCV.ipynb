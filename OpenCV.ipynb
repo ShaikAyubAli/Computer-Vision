{
 "cells": [
  {
   "cell_type": "markdown",
   "id": "87c997d2",
   "metadata": {},
   "source": [
    "#### OpenCV Installation can be done in 2 ways\n",
    "- conda install -c conda-forge opencv\n",
    "- pip install opencv-python"
   ]
  },
  {
   "cell_type": "code",
   "execution_count": 1,
   "id": "2e8725c0",
   "metadata": {},
   "outputs": [],
   "source": [
    "# pip install opencv-python\n",
    "# pip install opencv --upgrade # for upgrading opencv to latest version if required"
   ]
  },
  {
   "cell_type": "code",
   "execution_count": 2,
   "id": "7ffd0876",
   "metadata": {},
   "outputs": [],
   "source": [
    "import cv2 \n",
    "import numpy as np"
   ]
  },
  {
   "cell_type": "markdown",
   "id": "dfec4fd3",
   "metadata": {},
   "source": [
    "# Load/Read image"
   ]
  },
  {
   "cell_type": "code",
   "execution_count": 3,
   "id": "761376c1",
   "metadata": {},
   "outputs": [],
   "source": [
    "# Load an image using 'imread' specifying the path to image\n",
    "img = cv2.imread(\"image_examples/Modi.jpg\",1)"
   ]
  },
  {
   "cell_type": "markdown",
   "id": "19a154d9",
   "metadata": {},
   "source": [
    "## Let's take a closer look at how images are stored"
   ]
  },
  {
   "cell_type": "code",
   "execution_count": 4,
   "id": "132016c6",
   "metadata": {},
   "outputs": [
    {
     "name": "stdout",
     "output_type": "stream",
     "text": [
      "[[[255 255 255]\n",
      "  [255 255 255]\n",
      "  [255 255 255]\n",
      "  ...\n",
      "  [255 255 255]\n",
      "  [255 255 255]\n",
      "  [255 255 255]]\n",
      "\n",
      " [[255 255 255]\n",
      "  [255 255 255]\n",
      "  [255 255 255]\n",
      "  ...\n",
      "  [255 255 255]\n",
      "  [255 255 255]\n",
      "  [255 255 255]]\n",
      "\n",
      " [[255 255 255]\n",
      "  [255 255 255]\n",
      "  [255 255 255]\n",
      "  ...\n",
      "  [255 255 255]\n",
      "  [255 255 255]\n",
      "  [255 255 255]]\n",
      "\n",
      " ...\n",
      "\n",
      " [[255 255 255]\n",
      "  [255 255 255]\n",
      "  [255 255 255]\n",
      "  ...\n",
      "  [255 255 255]\n",
      "  [255 255 255]\n",
      "  [255 255 255]]\n",
      "\n",
      " [[255 255 255]\n",
      "  [255 255 255]\n",
      "  [255 255 255]\n",
      "  ...\n",
      "  [255 255 255]\n",
      "  [255 255 255]\n",
      "  [255 255 255]]\n",
      "\n",
      " [[255 255 255]\n",
      "  [255 255 255]\n",
      "  [255 255 255]\n",
      "  ...\n",
      "  [255 255 255]\n",
      "  [255 255 255]\n",
      "  [255 255 255]]]\n"
     ]
    }
   ],
   "source": [
    "print(img)"
   ]
  },
  {
   "cell_type": "markdown",
   "id": "8edc7eb5",
   "metadata": {},
   "source": [
    "### Shape gives the dimensions of the image array"
   ]
  },
  {
   "cell_type": "code",
   "execution_count": 5,
   "id": "682e4925",
   "metadata": {},
   "outputs": [
    {
     "data": {
      "text/plain": [
       "(1358, 1500, 3)"
      ]
     },
     "execution_count": 5,
     "metadata": {},
     "output_type": "execute_result"
    }
   ],
   "source": [
    "img.shape\n",
    "\n",
    "# The 3D dimensions are 1358 pixels in height * 1500 pixels wide\n",
    "# 3 Means that there are 3 components (RGB) that make up this image"
   ]
  },
  {
   "cell_type": "markdown",
   "id": "1e21cdcc",
   "metadata": {},
   "source": [
    "## Display the Image"
   ]
  },
  {
   "cell_type": "code",
   "execution_count": 6,
   "id": "f9815d51",
   "metadata": {},
   "outputs": [],
   "source": [
    "# To display our image variable, we use \"imshow\"\n",
    "# The first parameter will be title shown on image window\n",
    "# The second parameter is the image variable\n",
    "cv2.imshow(\"PM\",img)\n",
    "\n",
    "# 'waitKey' allows us to input information when a image window is open\n",
    "# By leaving it blank it just waits for anykey to be pressed before continuing\n",
    "# By placing numbers (except 0),we can specify a delay for \n",
    "# How long you keep the window open (time is in milliseconds)\n",
    "cv2.waitKey(2000)\n",
    "\n",
    "# This closes all open windows\n",
    "# Failure to place this will cause your program to hang\n",
    "cv2.destroyAllWindows()"
   ]
  },
  {
   "cell_type": "code",
   "execution_count": 7,
   "id": "16a977d2",
   "metadata": {},
   "outputs": [],
   "source": [
    "img = cv2.imread(\"image_examples/Modi.jpg\")\n",
    "cv2.imshow(\"PM\",img)\n",
    "cv2.waitKey()\n",
    "cv2.destroyAllWindows()"
   ]
  },
  {
   "cell_type": "markdown",
   "id": "0fdab812",
   "metadata": {},
   "source": [
    "## Save image"
   ]
  },
  {
   "cell_type": "code",
   "execution_count": 8,
   "id": "aec333cc",
   "metadata": {},
   "outputs": [
    {
     "data": {
      "text/plain": [
       "True"
      ]
     },
     "execution_count": 8,
     "metadata": {},
     "output_type": "execute_result"
    }
   ],
   "source": [
    "# Simply use \"imwrite\" specificing the file name and the image to be saved\n",
    "cv2.imwrite(\"pm_bw.jpg\",img)"
   ]
  },
  {
   "cell_type": "markdown",
   "id": "c8d1c8f0",
   "metadata": {},
   "source": [
    "## Resize Image"
   ]
  },
  {
   "cell_type": "code",
   "execution_count": 9,
   "id": "d7817a84",
   "metadata": {},
   "outputs": [],
   "source": [
    "img = cv2.imread(\"image_examples/Modi.jpg\")\n",
    "\n",
    "resized_image = cv2.resize(img,(500,500))\n",
    "\n",
    "gray = cv2.cvtColor(resized_image,cv2.COLOR_BGR2GRAY)\n",
    "\n",
    "cv2.imshow(\"Modi Image\",gray)\n",
    "\n",
    "cv2.waitKey()\n",
    "cv2.destroyAllWindows()"
   ]
  },
  {
   "cell_type": "code",
   "execution_count": 10,
   "id": "1a4cbbfe",
   "metadata": {},
   "outputs": [
    {
     "data": {
      "text/plain": [
       "679.0"
      ]
     },
     "execution_count": 10,
     "metadata": {},
     "output_type": "execute_result"
    }
   ],
   "source": [
    "img.shape[0]*0.5"
   ]
  },
  {
   "cell_type": "code",
   "execution_count": 11,
   "id": "34d15773",
   "metadata": {},
   "outputs": [
    {
     "data": {
      "text/plain": [
       "750.0"
      ]
     },
     "execution_count": 11,
     "metadata": {},
     "output_type": "execute_result"
    }
   ],
   "source": [
    "img.shape[1]*0.5"
   ]
  },
  {
   "cell_type": "markdown",
   "id": "534e7cc0",
   "metadata": {},
   "source": [
    "## Face Detection using HAAR Cascade Classifiers"
   ]
  },
  {
   "cell_type": "code",
   "execution_count": 12,
   "id": "d16f6cee",
   "metadata": {},
   "outputs": [],
   "source": [
    "# We point OpenCV's CascadeClassifier function to where our classifier (XML file format) is stored\n",
    "face_classifier = cv2.CascadeClassifier(\"Haarcascades/haarcascade_frontalface_default.xml\")\n",
    "\n",
    "# Load our image then convert it to grayscale\n",
    "image = cv2.imread(\"image_examples/Modi.jpg\")\n",
    "image = cv2.resize(img,(500,500))\n",
    "gray = cv2.cvtColor(image,cv2.COLOR_BGR2GRAY)\n",
    "\n",
    "### Tuning Cascade Classifier - defaultMultiScale(input image, **Scale Factor**, **Min Neighbors**)\n",
    "faces = face_classifier.detectMultiScale(gray,1.05,5)\n",
    "\n",
    "# Scale Factor - Specifies how much we reduce the image size each time we scale.\n",
    "# E.g in face detection we typically use 1.3. This means we reduce the image by 30% each time it's scaled\n",
    "# smaller values, like 1.05 will take longer to compute, but will increase the rate of detection\n",
    "\n",
    "## Min Neighbors**\n",
    "# Specifies the number of neighbors each potential window have in order to consider it a positive detection\n",
    "# Typically set between 3-6\n",
    "# It acts as senstivity setting, Low values will sometimes detect multiple faces over a single face\n",
    "# High values will ensure less false positives, but you may miss some faces."
   ]
  },
  {
   "cell_type": "code",
   "execution_count": 13,
   "id": "6ef6441e",
   "metadata": {},
   "outputs": [
    {
     "name": "stdout",
     "output_type": "stream",
     "text": [
      "[[205  79 217 217]]\n"
     ]
    }
   ],
   "source": [
    "print(faces)"
   ]
  },
  {
   "cell_type": "code",
   "execution_count": 14,
   "id": "52a1fa00",
   "metadata": {},
   "outputs": [
    {
     "name": "stderr",
     "output_type": "stream",
     "text": [
      "<>:23: SyntaxWarning: \"is\" with a literal. Did you mean \"==\"?\n",
      "<>:23: SyntaxWarning: \"is\" with a literal. Did you mean \"==\"?\n",
      "C:\\Users\\junai\\AppData\\Local\\Temp\\ipykernel_21528\\3829903164.py:23: SyntaxWarning: \"is\" with a literal. Did you mean \"==\"?\n",
      "  if faces is ():\n"
     ]
    }
   ],
   "source": [
    "# We point OpenCV's CascadeClassifier function to where our classifier (XML file Format) is stored\n",
    "face_classifier = cv2.CascadeClassifier(\"Haarcascades/haarcascade_frontalface_default.xml\")\n",
    "\n",
    "# Load our image then convert it to grayscale\n",
    "image = cv2.imread(\"image_examples/Modi.jpg\")\n",
    "image= cv2.resize(image,(500,500))\n",
    "gray = cv2.cvtColor(image,cv2.COLOR_BGR2GRAY)\n",
    "\n",
    "### Tuning Cascade Classifierrs - detectMultiScle(input image, **Scale Factor** , **Min Neighbors**)\n",
    "faces = face_classifier.detectMultiScale(gray,1.05,5)\n",
    "\n",
    "# Scale Factor - Specifies how much we reduce the image size each time we scale.\n",
    "# E.g is face detection we typically use 1.3  this means we reduce the image by 30%  each time it's scaled\n",
    "# Smaller values, like 1.05 will take longer to compute, but will increase the rate of detection\n",
    "\n",
    "## Min Neighbors**\n",
    "# Specifies the number of neighbors each potential window should have in order to consider it a positive detection.\n",
    "# Typically set between 3-6\n",
    "# It acts as sentivity setting, low values will sometimes detect multiple faces over a single face.\n",
    "# High values will ensure less false positives, but you may miss some faces.\n",
    "\n",
    "# when no. faces detected, face_classifier returns and empty tuple\n",
    "if faces is ():\n",
    "    print(\"No Faces Found\")\n",
    "    \n",
    "# We iterate through our faces array and draw a rectangle \n",
    "# over each face in faces\n",
    "for (x,y,w,h) in faces:\n",
    "    cv2.rectangle(image,(x,y),(x+w,y+h),(0,255,100),1)\n",
    "    \n",
    "cv2.imshow(\"Face Detection\",image)\n",
    "cv2.waitKey()\n",
    "cv2.destroyAllWindows()"
   ]
  },
  {
   "cell_type": "markdown",
   "id": "3a63996a",
   "metadata": {},
   "source": [
    "## Face & Eye Detection using HAAR Cascade Classifiers in Image"
   ]
  },
  {
   "cell_type": "code",
   "execution_count": 15,
   "id": "88f8b3ce",
   "metadata": {},
   "outputs": [
    {
     "name": "stderr",
     "output_type": "stream",
     "text": [
      "<>:12: SyntaxWarning: \"is\" with a literal. Did you mean \"==\"?\n",
      "<>:12: SyntaxWarning: \"is\" with a literal. Did you mean \"==\"?\n",
      "C:\\Users\\junai\\AppData\\Local\\Temp\\ipykernel_21528\\4081794125.py:12: SyntaxWarning: \"is\" with a literal. Did you mean \"==\"?\n",
      "  if faces is ():\n"
     ]
    }
   ],
   "source": [
    "face_classifier = cv2.CascadeClassifier(\"Haarcascades/haarcascade_frontalface_default.xml\")\n",
    "eye_classifier = cv2.CascadeClassifier(\"Haarcascades/haarcascade_eye.xml\")\n",
    "\n",
    "# Load our image then convert it to grayscale\n",
    "image = cv2.imread(\"image_examples/Modi.jpg\")\n",
    "resized_image= cv2.resize(img,(500,500))\n",
    "gray = cv2.cvtColor(resized_image,cv2.COLOR_BGR2GRAY)\n",
    "\n",
    "faces = face_classifier.detectMultiScale(gray,1.3,5)\n",
    "\n",
    "# When no Faces detected, face_classifier returns and empty tuple\n",
    "if faces is ():\n",
    "    print(\"No Faces Found\")\n",
    "    \n",
    "for (x,y,w,h) in faces:\n",
    "    cv2.rectangle(resized_image,(x,y),(x+w,y+h),(255,0,0),2)\n",
    "    roi_gray = gray[y:y+h,x:x+w]\n",
    "    roi_color = resized_image[y:y+h,x:x+w]\n",
    "    eyes = eye_classifier.detectMultiScale(roi_gray)\n",
    "    for (ex,ey,ew,eh) in eyes:\n",
    "        cv2.rectangle(roi_color,(ex,ey),(ex+ew,ey+eh),(0,255,0),2)\n",
    "    \n",
    "cv2.imshow(\"img\",resized_image)\n",
    "cv2.waitKey(0)\n",
    "cv2.destroyAllWindows()"
   ]
  },
  {
   "cell_type": "markdown",
   "id": "8935b3ed",
   "metadata": {},
   "source": [
    "## Capture a Video"
   ]
  },
  {
   "cell_type": "code",
   "execution_count": 16,
   "id": "aff87e10",
   "metadata": {},
   "outputs": [],
   "source": [
    "# Doing some Face Recognition with the webcam\n",
    "\n",
    "import cv2\n",
    "video = cv2.VideoCapture(0) #0-- webcam\n",
    "\n",
    "while True:\n",
    "    check, frame = video.read()\n",
    "    gray = cv2.cvtColor(frame,cv2.COLOR_BGR2GRAY)\n",
    "    cv2.imshow(\"Video\",gray)\n",
    "    if cv2.waitKey(1) == ord(\"q\"):\n",
    "        break\n",
    "        \n",
    "video.release()\n",
    "cv2.destroyAllWindows()"
   ]
  },
  {
   "cell_type": "markdown",
   "id": "a180b854",
   "metadata": {},
   "source": [
    "## Face & Eye Detection using HAAR Cascade Classifiers"
   ]
  },
  {
   "cell_type": "code",
   "execution_count": 17,
   "id": "9e3d12f0",
   "metadata": {
    "scrolled": true
   },
   "outputs": [],
   "source": [
    "# Defining a function that will do the detections\n",
    "face_cascade = cv2.CascadeClassifier(\"Haarcascades/haarcascade_frontalface_default.xml\")\n",
    "eye_cascade = cv2.CascadeClassifier(\"Haarcascades/haarcascade_eye.xml\")\n",
    "\n",
    "def detect(gray,frame):\n",
    "    faces = face_cascade.detectMultiScale(gray,1.3,5)\n",
    "    for (x,y,w,h) in faces:\n",
    "        cv2.rectangle(frame,(x,y),(x+w,y+h),(255,0,0),2)\n",
    "        roi_gray = gray[y:y+h,x:x+w]\n",
    "        roi_color = frame[y:y+h,x:x+w]\n",
    "        eyes = eye_cascade.detectMultiScale(roi_gray,1.1,3)\n",
    "        for (ex,ey,ew,eh) in eyes:\n",
    "            cv2.rectangle(roi_color,(ex,ey),(ex+ew,ey+eh),(0,255,0),2)\n",
    "    return frame\n",
    "\n",
    "# Doing some Face Recognition with the webcam\n",
    "video = cv2.VideoCapture(0) #0-- webcam\n",
    "\n",
    "while True:\n",
    "    check, frame = video.read()\n",
    "    gray = cv2.cvtColor(frame,cv2.COLOR_BGR2GRAY)\n",
    "    canvas = detect(gray,frame)\n",
    "    cv2.imshow(\"Video\",canvas)\n",
    "    if cv2.waitKey(1) == ord(\"q\"):\n",
    "        break\n",
    "        \n",
    "video.release()\n",
    "cv2.destroyAllWindows()"
   ]
  },
  {
   "cell_type": "markdown",
   "id": "ccfbec67",
   "metadata": {},
   "source": [
    "## Pedistrain Detection"
   ]
  },
  {
   "cell_type": "code",
   "execution_count": 18,
   "id": "3b5d9d82",
   "metadata": {},
   "outputs": [],
   "source": [
    "import cv2\n",
    "\n",
    "# Create our body classifier\n",
    "body_classifier = cv2.CascadeClassifier(\"Haarcascades\\haarcascade_fullbody.xml\")\n",
    "\n",
    "# Initiate video capture for video file \n",
    "cap = cv2.VideoCapture(\"image_examples/walking.avi\")\n",
    "\n",
    "# Loop once video is sucessfully loaded\n",
    "while cap.isOpened():\n",
    "    \n",
    "    # Read first frame\n",
    "    check, frame = cap.read()\n",
    "    gray = cv2.cvtColor(frame, cv2.COLOR_BGR2GRAY)\n",
    "    # Pass frame to our body classifier\n",
    "    bodies = body_classifier.detectMultiScale(gray,1.2,3)\n",
    "    \n",
    "    # Extract bounding boxes for any bodies identified\n",
    "    for (x,y,w,h) in bodies:\n",
    "        cv2.rectangle(frame,(x,y),(x+w,y+h),(0,255,255),2)\n",
    "        cv2.imshow(\"Pedestrains\",frame)\n",
    "        \n",
    "    if cv2.waitKey(1) == ord(\"q\"):\n",
    "        break\n",
    "\n",
    "cap.release()\n",
    "cv2.destroyAllWindows()"
   ]
  },
  {
   "cell_type": "code",
   "execution_count": 19,
   "id": "42a22214",
   "metadata": {},
   "outputs": [],
   "source": [
    "import time\n",
    "\n",
    "# Create our body classifier\n",
    "car_classifier = cv2.CascadeClassifier(\"Haarcascades\\haarcascade_car.xml\")\n",
    "\n",
    "# Initiate video capture for video file \n",
    "cap = cv2.VideoCapture(\"image_examples/cars.avi\")\n",
    "\n",
    "# Loop once video is sucessfully loaded\n",
    "while cap.isOpened():\n",
    "    \n",
    "    time.sleep(.05)\n",
    "    # Read first time\n",
    "    check, frame = cap.read()\n",
    "    gray = cv2.cvtColor(frame,cv2.COLOR_BGR2GRAY)\n",
    "    \n",
    "    # Pass Frame to our car classifier\n",
    "    cars = car_classifier.detectMultiScale(gray,1.4,2)\n",
    "    \n",
    "    # Extract bounding boxes for any bodies identified\n",
    "    for (x,y,w,h) in cars:\n",
    "        cv2.rectangle(frame,(x,y),(x+w,y+h),(0,255,255),2)\n",
    "        cv2.imshow(\"Cars\",frame)\n",
    "    \n",
    "    if cv2.waitKey(1) == ord(\"q\"):\n",
    "        break\n",
    "        \n",
    "cap.release()\n",
    "cv2.destroyAllWindows()"
   ]
  },
  {
   "cell_type": "code",
   "execution_count": null,
   "id": "7d58c463",
   "metadata": {},
   "outputs": [],
   "source": []
  }
 ],
 "metadata": {
  "kernelspec": {
   "display_name": "Python 3 (ipykernel)",
   "language": "python",
   "name": "python3"
  },
  "language_info": {
   "codemirror_mode": {
    "name": "ipython",
    "version": 3
   },
   "file_extension": ".py",
   "mimetype": "text/x-python",
   "name": "python",
   "nbconvert_exporter": "python",
   "pygments_lexer": "ipython3",
   "version": "3.11.4"
  }
 },
 "nbformat": 4,
 "nbformat_minor": 5
}
